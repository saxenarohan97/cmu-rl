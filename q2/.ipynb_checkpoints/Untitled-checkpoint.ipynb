{
 "cells": [
  {
   "cell_type": "code",
   "execution_count": 8,
   "metadata": {},
   "outputs": [],
   "source": [
    "import random\n",
    "import sys\n",
    "import numpy as np\n",
    "from matplotlib import pyplot as plt\n",
    "from matplotlib import pyplot as plt\n",
    "def init_testbench():\n",
    "    l_avgr= []\n",
    "    k=10\n",
    "    for i in range(0,k):\n",
    "        sum =0\n",
    "        for j in range(0,20):\n",
    "            mu,sigma = 1,1\n",
    "            s = np.random.normal(mu, sigma)\n",
    "            sum +=s\n",
    "        l_avgr.append(sum/20)\n",
    "    #print(l_avgr)\n",
    "    return l_avgr\n"
   ]
  },
  {
   "cell_type": "code",
   "execution_count": 2,
   "metadata": {},
   "outputs": [],
   "source": [
    "\n",
    "def bandit(k,l_avgr): \n",
    "    mu,sigma = 0,1\n",
    "    #noise = np.random.normal(l_avgr[k], sigma)\n",
    "    noise = np.random.normal(mu, sigma)\n",
    "    return   l_avgr[k] + noise\n",
    "    \n",
    "    "
   ]
  },
  {
   "cell_type": "code",
   "execution_count": 12,
   "metadata": {},
   "outputs": [
    {
     "name": "stdout",
     "output_type": "stream",
     "text": [
      "1000\n",
      "1000\n",
      "1000\n"
     ]
    },
    {
     "data": {
      "image/png": "[encoded data removed]",
      "text/plain": [
       "<Figure size 432x288 with 1 Axes>"
      ]
     },
     "metadata": {
      "needs_background": "light"
     },
     "output_type": "display_data"
    }
   ],
   "source": [
    "def eps_greedy(eps): \n",
    "    k=10\n",
    "   \n",
    "    \n",
    "    \n",
    "    #max_reward= \n",
    "            \n",
    "    expected_reward=[0 for j in range(1000)]\n",
    "    print(len(expected_reward))\n",
    "    for exp in range(20):\n",
    "        Q=[]\n",
    "        N=[]\n",
    "        \n",
    "        for i in range(0,k):\n",
    "            Q.append(0)\n",
    "            N.append(0)\n",
    "        l_avgr = init_testbench()\n",
    "        max_reward = -1000000\n",
    "        \"\"\"for arm,reward in enumerate(l_avgr): \n",
    "            if(reward> max_reward): \n",
    "                max_arm = arm\n",
    "                max_reward = reward\n",
    "        \"\"\"\n",
    "        arm = random.randint(0,k-1)\n",
    "        max_arm = arm\n",
    "            \n",
    "        for i in range(1000):               \n",
    "            r = random.uniform(0, 1)\n",
    "            #print(r)\n",
    "            if(r<eps): \n",
    "                arm = random.randint(0,k-1)\n",
    "            else : \n",
    "                arm = max_arm\n",
    "\n",
    "            reward= bandit(arm,l_avgr)\n",
    "            N[arm] +=1\n",
    "            Q[arm] = Q[arm] + (float(reward- Q[arm]))/N[arm]\n",
    "            \n",
    "            for a in range(k): \n",
    "                if(Q[a]> max_reward): \n",
    "                    max_arm = a\n",
    "                    max_reward = Q[a]\n",
    "            expectation =0\n",
    "\n",
    "            for arm in range(0,k): \n",
    "                #expectation += Q[arm]\n",
    "                expected_reward[i] +=(eps*(l_avgr[arm]))\n",
    "            expected_reward[i] += (1-eps)*l_avgr[max_arm]\n",
    "            expected_reward[i] /=(k)\n",
    "            #expected_reward[i] +=(eps*(expectation/(k+1)) + (1-eps)*max_reward)\n",
    "            \n",
    "    expected_reward = [x/20 for x in expected_reward]\n",
    "    return expected_reward  \n",
    "    \n",
    "er_1= eps_greedy(0)\n",
    "er_2= eps_greedy(0.1)\n",
    "er_3= eps_greedy(0.01)\n",
    "#print(er_1)\n",
    "plt.plot(er_1, label = \"eps=0\")\n",
    "plt.plot(er_2, label = \"eps=0.1\")\n",
    "plt.plot(er_3, label = \"eps=0.01\")\n",
    "plt.legend()\n",
    "plt.show()"
   ]
  },
  {
   "cell_type": "code",
   "execution_count": null,
   "metadata": {},
   "outputs": [],
   "source": []
  },
  {
   "cell_type": "code",
   "execution_count": null,
   "metadata": {},
   "outputs": [],
   "source": []
  }
 ],
 "metadata": {
  "kernelspec": {
   "display_name": "Python 3",
   "language": "python",
   "name": "python3"
  },
  "language_info": {
   "codemirror_mode": {
    "name": "ipython",
    "version": 3
   },
   "file_extension": ".py",
   "mimetype": "text/x-python",
   "name": "python",
   "nbconvert_exporter": "python",
   "pygments_lexer": "ipython3",
   "version": "3.8.5"
  }
 },
 "nbformat": 4,
 "nbformat_minor": 4
}
